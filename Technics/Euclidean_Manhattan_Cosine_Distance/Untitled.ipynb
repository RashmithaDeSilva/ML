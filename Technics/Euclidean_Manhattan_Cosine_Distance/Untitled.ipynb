{
 "cells": [
  {
   "cell_type": "code",
   "execution_count": null,
   "id": "661ea337-f352-4b61-845e-c3bc9b853bb7",
   "metadata": {},
   "outputs": [],
   "source": [
    "!pip install scipy"
   ]
  },
  {
   "cell_type": "code",
   "execution_count": 12,
   "id": "e924b058-975a-4bbb-bb95-504c3372eb56",
   "metadata": {},
   "outputs": [],
   "source": [
    "A = (5, 3)\n",
    "B = (2, 4)"
   ]
  },
  {
   "cell_type": "code",
   "execution_count": 13,
   "id": "35afb11c-fd16-4171-aa08-b7655f73f9dd",
   "metadata": {},
   "outputs": [],
   "source": [
    "from scipy.spatial import distance"
   ]
  },
  {
   "cell_type": "markdown",
   "id": "b810afc6-7c92-43ee-9720-daa6afc825e7",
   "metadata": {},
   "source": [
    "<br>\n",
    "\n",
    "# Euclidean Distance"
   ]
  },
  {
   "cell_type": "code",
   "execution_count": 14,
   "id": "f1762582-6124-4cfd-b22a-27a21e1d7d1c",
   "metadata": {},
   "outputs": [
    {
     "data": {
      "text/plain": [
       "np.float64(3.1622776601683795)"
      ]
     },
     "execution_count": 14,
     "metadata": {},
     "output_type": "execute_result"
    }
   ],
   "source": [
    "e_dis = distance.euclidean(A, B)\n",
    "e_dis"
   ]
  },
  {
   "cell_type": "markdown",
   "id": "09427d2b-16f2-4a0f-bf30-44920a810d4a",
   "metadata": {},
   "source": [
    "<br>\n",
    "\n",
    "# Manhattan Distance"
   ]
  },
  {
   "cell_type": "code",
   "execution_count": 15,
   "id": "3da1905f-566b-4553-9c58-d0655f67365b",
   "metadata": {},
   "outputs": [
    {
     "data": {
      "text/plain": [
       "np.int64(4)"
      ]
     },
     "execution_count": 15,
     "metadata": {},
     "output_type": "execute_result"
    }
   ],
   "source": [
    "m_dis = distance.cityblock(A, B)\n",
    "m_dis"
   ]
  },
  {
   "cell_type": "markdown",
   "id": "d0678ece-380c-40d0-94df-bf303088199c",
   "metadata": {},
   "source": [
    "<br>\n",
    "\n",
    "# Cosine Distance"
   ]
  },
  {
   "cell_type": "code",
   "execution_count": 16,
   "id": "98be6344-5705-4da2-bb4a-131ad594f177",
   "metadata": {},
   "outputs": [
    {
     "data": {
      "text/plain": [
       "np.float64(0.15633851226789253)"
      ]
     },
     "execution_count": 16,
     "metadata": {},
     "output_type": "execute_result"
    }
   ],
   "source": [
    "c_dis = distance.cosine(A, B)\n",
    "c_dis"
   ]
  }
 ],
 "metadata": {
  "kernelspec": {
   "display_name": "Python 3 (ipykernel)",
   "language": "python",
   "name": "python3"
  },
  "language_info": {
   "codemirror_mode": {
    "name": "ipython",
    "version": 3
   },
   "file_extension": ".py",
   "mimetype": "text/x-python",
   "name": "python",
   "nbconvert_exporter": "python",
   "pygments_lexer": "ipython3",
   "version": "3.12.1"
  }
 },
 "nbformat": 4,
 "nbformat_minor": 5
}
