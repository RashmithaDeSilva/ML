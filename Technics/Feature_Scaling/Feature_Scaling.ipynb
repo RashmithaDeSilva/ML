{
 "cells": [
  {
   "cell_type": "code",
   "execution_count": null,
   "id": "8cf023ac-dbde-4170-976a-cc51e5642508",
   "metadata": {},
   "outputs": [],
   "source": [
    "!pip install numpy"
   ]
  },
  {
   "cell_type": "code",
   "execution_count": 1,
   "id": "d3c68208-98a4-4e97-a441-ca90d9307f84",
   "metadata": {},
   "outputs": [],
   "source": [
    "import numpy as np"
   ]
  },
  {
   "cell_type": "code",
   "execution_count": 2,
   "id": "abe3d09c-e2f9-465a-a19e-4520f4e4598c",
   "metadata": {},
   "outputs": [],
   "source": [
    "data = np.array([\n",
    "    [26, 50000],\n",
    "    [29, 70000],\n",
    "    [34, 55000],\n",
    "    [31, 41000]\n",
    "])"
   ]
  },
  {
   "cell_type": "markdown",
   "id": "16a1b2ef-8a71-4aac-afc7-2ecdf261ffa3",
   "metadata": {},
   "source": [
    "<br><br>\n",
    "## Normalization"
   ]
  },
  {
   "cell_type": "code",
   "execution_count": 4,
   "id": "2cbd0f59-a025-43e1-b82d-b5bc11e279ef",
   "metadata": {},
   "outputs": [
    {
     "data": {
      "text/plain": [
       "array([[0.        , 0.31034483],\n",
       "       [0.375     , 1.        ],\n",
       "       [1.        , 0.48275862],\n",
       "       [0.625     , 0.        ]])"
      ]
     },
     "execution_count": 4,
     "metadata": {},
     "output_type": "execute_result"
    }
   ],
   "source": [
    "from sklearn.preprocessing import MinMaxScaler\n",
    "\n",
    "scaler = MinMaxScaler()\n",
    "scaler_data = scaler.fit_transform(data)\n",
    "scaler_data"
   ]
  },
  {
   "cell_type": "markdown",
   "id": "0404b058-e71e-4419-996c-1dddc0f7c6d7",
   "metadata": {},
   "source": [
    "<br><br>\n",
    "## Standardization"
   ]
  },
  {
   "cell_type": "code",
   "execution_count": 5,
   "id": "600a3ca3-11ab-491b-b6fe-764f271cc1dc",
   "metadata": {},
   "outputs": [
    {
     "data": {
      "text/plain": [
       "array([[-1.37198868, -0.3805212 ],\n",
       "       [-0.34299717,  1.52208478],\n",
       "       [ 1.37198868,  0.0951303 ],\n",
       "       [ 0.34299717, -1.23669388]])"
      ]
     },
     "execution_count": 5,
     "metadata": {},
     "output_type": "execute_result"
    }
   ],
   "source": [
    "from sklearn.preprocessing import StandardScaler\n",
    "\n",
    "scaler = StandardScaler()\n",
    "scaler_data = scaler.fit_transform(data)\n",
    "scaler_data"
   ]
  },
  {
   "cell_type": "code",
   "execution_count": null,
   "id": "ef4bf870-be33-47d0-9e05-c304674a917d",
   "metadata": {},
   "outputs": [],
   "source": []
  }
 ],
 "metadata": {
  "kernelspec": {
   "display_name": "Python 3 (ipykernel)",
   "language": "python",
   "name": "python3"
  },
  "language_info": {
   "codemirror_mode": {
    "name": "ipython",
    "version": 3
   },
   "file_extension": ".py",
   "mimetype": "text/x-python",
   "name": "python",
   "nbconvert_exporter": "python",
   "pygments_lexer": "ipython3",
   "version": "3.12.1"
  }
 },
 "nbformat": 4,
 "nbformat_minor": 5
}
